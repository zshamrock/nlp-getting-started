{
 "cells": [
  {
   "cell_type": "code",
   "execution_count": 64,
   "metadata": {
    "collapsed": true,
    "pycharm": {
     "is_executing": false
    }
   },
   "outputs": [],
   "source": [
    "import pandas as pd\n",
    "from fasttext import train_supervised, load_model\n",
    "from imblearn.under_sampling import RandomUnderSampler\n",
    "from sklearn.metrics import classification_report\n",
    "from sklearn.model_selection import train_test_split"
   ]
  },
  {
   "cell_type": "code",
   "execution_count": 65,
   "outputs": [
    {
     "name": "stdout",
     "text": [
      "1    3271\n",
      "0    3271\n",
      "Name: y, dtype: int64\n"
     ],
     "output_type": "stream"
    },
    {
     "data": {
      "text/plain": "                                                   x  y\n0  Everyday is a near death fatality for me on th...  0\n1  #Lifestyle Û÷It makes me sickÛª: Baby clothe...  0\n2  @Lenn_Len Probably. We are inundated with them...  0\n3  A demoness with the voice of an angel. Like a ...  0\n4  Next Man Up---AH SCREW THIS! I'm so tired of i...  0",
      "text/html": "<div>\n<style scoped>\n    .dataframe tbody tr th:only-of-type {\n        vertical-align: middle;\n    }\n\n    .dataframe tbody tr th {\n        vertical-align: top;\n    }\n\n    .dataframe thead th {\n        text-align: right;\n    }\n</style>\n<table border=\"1\" class=\"dataframe\">\n  <thead>\n    <tr style=\"text-align: right;\">\n      <th></th>\n      <th>x</th>\n      <th>y</th>\n    </tr>\n  </thead>\n  <tbody>\n    <tr>\n      <th>0</th>\n      <td>Everyday is a near death fatality for me on th...</td>\n      <td>0</td>\n    </tr>\n    <tr>\n      <th>1</th>\n      <td>#Lifestyle Û÷It makes me sickÛª: Baby clothe...</td>\n      <td>0</td>\n    </tr>\n    <tr>\n      <th>2</th>\n      <td>@Lenn_Len Probably. We are inundated with them...</td>\n      <td>0</td>\n    </tr>\n    <tr>\n      <th>3</th>\n      <td>A demoness with the voice of an angel. Like a ...</td>\n      <td>0</td>\n    </tr>\n    <tr>\n      <th>4</th>\n      <td>Next Man Up---AH SCREW THIS! I'm so tired of i...</td>\n      <td>0</td>\n    </tr>\n  </tbody>\n</table>\n</div>"
     },
     "metadata": {},
     "output_type": "execute_result",
     "execution_count": 65
    }
   ],
   "source": [
    "df = pd.read_csv('data/train.csv', usecols=['text', 'target'])\\\n",
    "  .rename(columns={'text': 'x', 'target': 'y'})\n",
    "\n",
    "X, y = RandomUnderSampler(random_state=42).fit_resample(df[['x']].values, df['y'].values)\n",
    "df = pd.DataFrame({'x': X[:, 0], 'y': y})\n",
    "\n",
    "print(df.y.value_counts())\n",
    "df.head()"
   ],
   "metadata": {
    "collapsed": false,
    "pycharm": {
     "name": "#%%\n",
     "is_executing": false
    }
   }
  },
  {
   "cell_type": "code",
   "execution_count": 66,
   "outputs": [],
   "source": [
    "train_df, test_df = train_test_split(df, test_size=0.2, stratify=df['y'])\n",
    "train_df = train_df.copy()\n",
    "test_df = test_df.copy()\n"
   ],
   "metadata": {
    "collapsed": false,
    "pycharm": {
     "name": "#%%\n",
     "is_executing": false
    }
   }
  },
  {
   "cell_type": "code",
   "execution_count": 67,
   "outputs": [],
   "source": [
    "def preprocess(x):  return x.replace('\\n', ' ').strip()\n",
    "\n",
    "train_df['x'] = train_df['x'].map(preprocess)\n",
    "test_df['x'] = test_df['x'].map(preprocess)"
   ],
   "metadata": {
    "collapsed": false,
    "pycharm": {
     "name": "#%%\n",
     "is_executing": false
    }
   }
  },
  {
   "cell_type": "code",
   "execution_count": 68,
   "outputs": [],
   "source": [
    "def save_df_in_fasttext_format(df, path, label_prefix='__label__'):\n",
    "  with open(path, 'w+') as f:\n",
    "    for _, row in df.iterrows():\n",
    "      assert '\\n' not in row['x']\n",
    "      f.write('{}{} {}\\n'.format(label_prefix, row['y'], row['x'].strip()))\n",
    "      \n",
    "\n",
    "def predict(model, df, label_prefix='__label__'):\n",
    "  labels, probs = model.predict(df['x'].tolist())\n",
    "  return [int(label_list[0].replace(label_prefix, '')) for label_list in labels]\n",
    "\n",
    "\n",
    "save_df_in_fasttext_format(train_df, 'data/train.data')"
   ],
   "metadata": {
    "collapsed": false,
    "pycharm": {
     "name": "#%%\n",
     "is_executing": false
    }
   }
  },
  {
   "cell_type": "code",
   "execution_count": 69,
   "outputs": [
    {
     "name": "stdout",
     "text": [
      "              precision    recall  f1-score   support\n",
      "\n",
      "           0       0.74      0.79      0.76       654\n",
      "           1       0.77      0.73      0.75       655\n",
      "\n",
      "    accuracy                           0.76      1309\n",
      "   macro avg       0.76      0.76      0.76      1309\n",
      "weighted avg       0.76      0.76      0.76      1309\n",
      "\n"
     ],
     "output_type": "stream"
    }
   ],
   "source": [
    "model = train_supervised(input='data/train.data',\n",
    "                         epoch=25,\n",
    "                         lr=1.0,\n",
    "                         wordNgrams=2,\n",
    "                         verbose=2,\n",
    "                         minCount=1,\n",
    "                         label='__label__')\n",
    "model.save_model('ft.model')\n",
    "test_df['y_pred'] = predict(model, test_df)\n",
    "\n",
    "print(classification_report(test_df['y'], test_df['y_pred']))"
   ],
   "metadata": {
    "collapsed": false,
    "pycharm": {
     "name": "#%%\n",
     "is_executing": false
    }
   }
  },
  {
   "cell_type": "code",
   "execution_count": 70,
   "outputs": [
    {
     "name": "stdout",
     "text": [
      "[0 1]\n",
      "[1 0]\n"
     ],
     "output_type": "stream"
    }
   ],
   "source": [
    "print(test_df['y'].unique())\n",
    "print(test_df['y_pred'].unique())"
   ],
   "metadata": {
    "collapsed": false,
    "pycharm": {
     "name": "#%%\n",
     "is_executing": false
    }
   }
  },
  {
   "cell_type": "code",
   "execution_count": 71,
   "outputs": [],
   "source": [
    "# model.quantize(input='data/train.data', qnorm=True, retrain=True, cutoff=100000)\n",
    "# model.save_model('ft_quantized.model')\n",
    "\n",
    "# print(classification_report(test_df['y'], predict(model, test_df)))"
   ],
   "metadata": {
    "collapsed": false,
    "pycharm": {
     "name": "#%%\n",
     "is_executing": false
    }
   }
  },
  {
   "cell_type": "code",
   "execution_count": 72,
   "outputs": [],
   "source": [
    "test_df = pd.read_csv('data/test.csv', usecols=['text'])\\\n",
    "  .rename(columns={'text': 'x'})\n",
    "test_df['x'] = test_df['x'].map(preprocess)\n",
    "test_df['y_pred'] = predict(model, test_df)"
   ],
   "metadata": {
    "collapsed": false,
    "pycharm": {
     "name": "#%%\n",
     "is_executing": false
    }
   }
  },
  {
   "cell_type": "code",
   "execution_count": 73,
   "outputs": [],
   "source": [
    "sample_submission = pd.read_csv(\"data/sample_submission.csv\")\n",
    "sample_submission[\"target\"] = test_df['y_pred']"
   ],
   "metadata": {
    "collapsed": false,
    "pycharm": {
     "name": "#%%\n",
     "is_executing": false
    }
   }
  },
  {
   "cell_type": "code",
   "execution_count": 74,
   "outputs": [
    {
     "data": {
      "text/plain": "   id  target\n0   0       1\n1   2       0\n2   3       1\n3   9       0\n4  11       1",
      "text/html": "<div>\n<style scoped>\n    .dataframe tbody tr th:only-of-type {\n        vertical-align: middle;\n    }\n\n    .dataframe tbody tr th {\n        vertical-align: top;\n    }\n\n    .dataframe thead th {\n        text-align: right;\n    }\n</style>\n<table border=\"1\" class=\"dataframe\">\n  <thead>\n    <tr style=\"text-align: right;\">\n      <th></th>\n      <th>id</th>\n      <th>target</th>\n    </tr>\n  </thead>\n  <tbody>\n    <tr>\n      <th>0</th>\n      <td>0</td>\n      <td>1</td>\n    </tr>\n    <tr>\n      <th>1</th>\n      <td>2</td>\n      <td>0</td>\n    </tr>\n    <tr>\n      <th>2</th>\n      <td>3</td>\n      <td>1</td>\n    </tr>\n    <tr>\n      <th>3</th>\n      <td>9</td>\n      <td>0</td>\n    </tr>\n    <tr>\n      <th>4</th>\n      <td>11</td>\n      <td>1</td>\n    </tr>\n  </tbody>\n</table>\n</div>"
     },
     "metadata": {},
     "output_type": "execute_result",
     "execution_count": 74
    }
   ],
   "source": [
    "sample_submission.head()"
   ],
   "metadata": {
    "collapsed": false,
    "pycharm": {
     "name": "#%%\n",
     "is_executing": false
    }
   }
  },
  {
   "cell_type": "code",
   "execution_count": 75,
   "outputs": [],
   "source": [
    "sample_submission.to_csv(\"submissions/02_fasttext_submission.csv\", index=False)"
   ],
   "metadata": {
    "collapsed": false,
    "pycharm": {
     "name": "#%%\n",
     "is_executing": false
    }
   }
  },
  {
   "cell_type": "markdown",
   "source": [
    "Score: 0.74437"
   ],
   "metadata": {
    "collapsed": false
   }
  },
  {
   "cell_type": "markdown",
   "source": [
    "TODO:\n",
    "  - Following official latest guide https://fasttext.cc/docs/en/supervised-tutorial.html \n",
    "  - Automatic hyperparameter optimization https://fasttext.cc/docs/en/autotune.html\n",
    "\n"
   ],
   "metadata": {
    "collapsed": false
   }
  }
 ],
 "metadata": {
  "kernelspec": {
   "display_name": "Python 3",
   "language": "python",
   "name": "python3"
  },
  "language_info": {
   "codemirror_mode": {
    "name": "ipython",
    "version": 2
   },
   "file_extension": ".py",
   "mimetype": "text/x-python",
   "name": "python",
   "nbconvert_exporter": "python",
   "pygments_lexer": "ipython2",
   "version": "2.7.6"
  },
  "pycharm": {
   "stem_cell": {
    "cell_type": "raw",
    "source": [
     "%%bash\n",
     "\n",
     "# Install required packages\n",
     "pip install -U -q git+https://github.com/facebookresearch/fastText.git\n",
     "pip install -U -q pandas scikit-learn imblearn\n"
    ],
    "metadata": {
     "collapsed": false
    }
   }
  }
 },
 "nbformat": 4,
 "nbformat_minor": 0
}