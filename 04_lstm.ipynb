{
 "cells": [
  {
   "cell_type": "code",
   "execution_count": 3,
   "metadata": {
    "pycharm": {
     "is_executing": false
    }
   },
   "outputs": [],
   "source": [
    "import os\n",
    "import re\n",
    "import pickle\n",
    "import random\n",
    "import shutil\n",
    "from collections import Counter\n",
    "\n",
    "import matplotlib.pyplot as plt\n",
    "import numpy as np\n",
    "import pandas as pd\n",
    "from IPython.display import SVG\n",
    "from keras.callbacks import ModelCheckpoint, EarlyStopping\n",
    "from keras.layers import Embedding, Input, LSTM, Dense, Conv1D, MaxPooling1D, Flatten, Dropout, Masking\n",
    "from keras.models import Model, load_model, Sequential\n",
    "from keras.preprocessing.sequence import pad_sequences\n",
    "from keras.preprocessing.text import Tokenizer\n",
    "from keras.optimizers import Adam\n",
    "from keras.utils import to_categorical\n",
    "from keras.utils.vis_utils import model_to_dot\n",
    "from sklearn.datasets import fetch_20newsgroups\n",
    "from sklearn.metrics import classification_report\n",
    "from sklearn.model_selection import train_test_split\n",
    "from sklearn.preprocessing import LabelEncoder, OneHotEncoder\n",
    "\n",
    "\n",
    "%matplotlib inline"
   ]
  },
  {
   "cell_type": "code",
   "execution_count": 4,
   "metadata": {
    "pycharm": {
     "is_executing": false,
     "name": "#%%\n"
    }
   },
   "outputs": [],
   "source": [
    "N_CLASSES = 2"
   ]
  },
  {
   "cell_type": "code",
   "execution_count": 28,
   "metadata": {
    "pycharm": {
     "is_executing": false,
     "name": "#%%\n"
    }
   },
   "outputs": [],
   "source": [
    "\n",
    "df = pd.read_csv('data/train.csv', usecols=['text', 'target'])\\\n",
    "  .rename(columns={'text': 'x', 'target': 'y'})\n",
    "test_df = pd.read_csv('data/test.csv', usecols=['text'])\\\n",
    "  .rename(columns={'text': 'x'})"
   ]
  },
  {
   "cell_type": "code",
   "execution_count": 29,
   "metadata": {
    "pycharm": {
     "is_executing": false,
     "name": "#%%\n"
    }
   },
   "outputs": [],
   "source": [
    "train_df, valid_df = train_test_split(df, test_size=0.2, stratify=df['y'], random_state=42)\n",
    "train_texts = train_df['x']\n",
    "valid_texts = valid_df['x']\n",
    "test_texts = test_df['x']"
   ]
  },
  {
   "cell_type": "code",
   "execution_count": 7,
   "metadata": {
    "pycharm": {
     "is_executing": true,
     "name": "#%%\n"
    }
   },
   "outputs": [],
   "source": [
    "train_targets = train_df['y']\n",
    "valid_targets = valid_df['y']\n"
   ]
  },
  {
   "cell_type": "code",
   "execution_count": null,
   "metadata": {},
   "outputs": [],
   "source": []
  },
  {
   "cell_type": "code",
   "execution_count": 8,
   "metadata": {
    "pycharm": {
     "name": "#%%\n"
    }
   },
   "outputs": [],
   "source": [
    "label_encoder = LabelEncoder()\n",
    "\n",
    "y_train = label_encoder.fit_transform(train_targets)\n",
    "y_valid = label_encoder.transform(valid_targets)\n",
    "\n",
    "y_train_1_hot = to_categorical(y_train, N_CLASSES)\n",
    "y_valid_1_hot = to_categorical(y_valid, N_CLASSES)\n",
    "\n",
    "with open('label_encoder.p', 'wb') as f:\n",
    "    pickle.dump(label_encoder, f)"
   ]
  },
  {
   "cell_type": "code",
   "execution_count": 9,
   "metadata": {},
   "outputs": [
    {
     "name": "stdout",
     "output_type": "stream",
     "text": [
      "[[0. 1.]\n",
      " [1. 0.]\n",
      " [1. 0.]\n",
      " ...\n",
      " [1. 0.]\n",
      " [1. 0.]\n",
      " [1. 0.]]\n",
      "(6090, 2)\n",
      "[[1. 0.]\n",
      " [1. 0.]\n",
      " [0. 1.]\n",
      " ...\n",
      " [0. 1.]\n",
      " [1. 0.]\n",
      " [1. 0.]]\n",
      "(1523, 2)\n"
     ]
    }
   ],
   "source": [
    "print(y_train_1_hot)\n",
    "print(y_train_1_hot.shape)\n",
    "print(y_valid_1_hot)\n",
    "print(y_valid_1_hot.shape)"
   ]
  },
  {
   "cell_type": "code",
   "execution_count": 35,
   "metadata": {
    "pycharm": {
     "is_executing": false,
     "name": "#%%\n"
    }
   },
   "outputs": [
    {
     "name": "stdout",
     "output_type": "stream",
     "text": [
      "Actual NUM_WORDS=10000\n"
     ]
    }
   ],
   "source": [
    "NUM_WORDS = 10000\n",
    "\n",
    "tokenizer = Tokenizer(NUM_WORDS)\n",
    "tokenizer.fit_on_texts(train_texts)\n",
    "NUM_WORDS = min(NUM_WORDS, len(tokenizer.word_index))\n",
    "print('Actual NUM_WORDS={}'.format(NUM_WORDS))\n",
    "\n",
    "with open('tokenizer.p', 'wb') as f:\n",
    "    pickle.dump(tokenizer, f)\n",
    "\n",
    "train_texts_encoded = tokenizer.texts_to_sequences(train_texts)\n",
    "valid_texts_encoded = tokenizer.texts_to_sequences(valid_texts)\n",
    "test_texts_encoded = tokenizer.texts_to_sequences(test_texts)"
   ]
  },
  {
   "cell_type": "code",
   "execution_count": 11,
   "metadata": {
    "pycharm": {
     "is_executing": false,
     "name": "#%%\n"
    }
   },
   "outputs": [
    {
     "data": {
      "text/plain": [
       "count    6090.000000\n",
       "mean       15.299507\n",
       "std         5.807127\n",
       "min         0.000000\n",
       "25%        11.000000\n",
       "50%        16.000000\n",
       "75%        20.000000\n",
       "max        33.000000\n",
       "dtype: float64"
      ]
     },
     "execution_count": 11,
     "metadata": {},
     "output_type": "execute_result"
    }
   ],
   "source": [
    "train_text_lengths = list(map(len, train_texts_encoded))\n",
    "pd.Series(train_text_lengths).describe()"
   ]
  },
  {
   "cell_type": "code",
   "execution_count": 36,
   "metadata": {
    "pycharm": {
     "is_executing": false,
     "name": "#%%\n"
    }
   },
   "outputs": [],
   "source": [
    "MAX_SEQUENCE_LENGTH = 25\n",
    "\n",
    "X_train = pad_sequences(train_texts_encoded, MAX_SEQUENCE_LENGTH)\n",
    "X_valid = pad_sequences(valid_texts_encoded, MAX_SEQUENCE_LENGTH)\n",
    "X_test = pad_sequences(test_texts_encoded, MAX_SEQUENCE_LENGTH)"
   ]
  },
  {
   "cell_type": "code",
   "execution_count": 13,
   "metadata": {
    "pycharm": {
     "is_executing": false,
     "name": "#%%\n"
    }
   },
   "outputs": [],
   "source": [
    "def get_one(i, size):\n",
    "    \"\"\"\n",
    "    >>> get_one(3, 8)\n",
    "    array([False, False, False,  True, False, False, False, False])\n",
    "    \"\"\"\n",
    "    return np.eye(1, size, k=i, dtype=np.bool).ravel()\n",
    "\n",
    "\n",
    "def encode_texts(texts):\n",
    "    # max_sentence_len = np.max(list(map(len, texts)))\n",
    "    # X = np.zeros((len(texts), max_sentence_len, NUM_WORDS), dtype=np.int8)\n",
    "    X = np.zeros((len(texts), MAX_SEQUENCE_LENGTH, NUM_WORDS), dtype=np.int8)\n",
    "    \n",
    "    for i, text in enumerate(texts):\n",
    "        for t, word_id in enumerate(text):\n",
    "            X[i, t, :] = get_one(word_id, NUM_WORDS)\n",
    "            \n",
    "    return X\n",
    "\n",
    "\n",
    "def iter_batches(texts, targets=None, batch_size=16, sort_by_len=True, shuffle=True):\n",
    "    assert batch_size > 0\n",
    "    \n",
    "    if sort_by_len:\n",
    "        text_lengths = list(map(len, texts))\n",
    "        indexes = np.argsort(text_lengths)\n",
    "\n",
    "        texts = np.array(texts)[indexes]\n",
    "\n",
    "        if targets is not None:\n",
    "            targets = np.array(targets)[indexes]\n",
    "    \n",
    "    batch_indexes = list(range(len(texts) // batch_size))\n",
    "    \n",
    "    while True:\n",
    "        if shuffle:\n",
    "            random.shuffle(batch_indexes)\n",
    "            \n",
    "        for i in batch_indexes:\n",
    "            texts_batch = texts[i * batch_size:(i + 1) * batch_size]\n",
    "            texts_batch_encoded = encode_texts(texts_batch)\n",
    "            \n",
    "            if targets is not None:\n",
    "                targets_batch = targets[i * batch_size:(i + 1) * batch_size]\n",
    "                yield texts_batch_encoded, targets_batch\n",
    "            else:\n",
    "                yield texts_batch_encoded\n"
   ]
  },
  {
   "cell_type": "code",
   "execution_count": 14,
   "metadata": {
    "pycharm": {
     "is_executing": false,
     "name": "#%%\n"
    }
   },
   "outputs": [
    {
     "name": "stdout",
     "output_type": "stream",
     "text": [
      "WARNING:tensorflow:From /home/alex/.local/lib/python3.7/site-packages/tensorflow/python/keras/backend.py:3794: add_dispatch_support.<locals>.wrapper (from tensorflow.python.ops.array_ops) is deprecated and will be removed in a future version.\n",
      "Instructions for updating:\n",
      "Use tf.where in 2.0, which has the same broadcast rule as np.where\n"
     ]
    }
   ],
   "source": [
    "model = Sequential([\n",
    "    Masking(mask_value=np.int8(0), input_shape=(None, NUM_WORDS)),\n",
    "    LSTM(units=16, activation='tanh'),\n",
    "    Dense(N_CLASSES, activation='softmax')\n",
    "])\n",
    "\n",
    "\n",
    "model.compile(loss='categorical_crossentropy',\n",
    "              optimizer=Adam(clipnorm=1.),\n",
    "              metrics=['accuracy'])"
   ]
  },
  {
   "cell_type": "code",
   "execution_count": 15,
   "metadata": {
    "pycharm": {
     "is_executing": false,
     "name": "#%%\n"
    }
   },
   "outputs": [],
   "source": [
    "from keras.callbacks import CSVLogger"
   ]
  },
  {
   "cell_type": "code",
   "execution_count": 18,
   "metadata": {
    "pycharm": {
     "is_executing": true,
     "name": "#%%\n"
    }
   },
   "outputs": [
    {
     "name": "stdout",
     "output_type": "stream",
     "text": [
      "Epoch 31/40\n"
     ]
    },
    {
     "name": "stderr",
     "output_type": "stream",
     "text": [
      "/home/alex/.local/lib/python3.7/site-packages/keras/engine/training_generator.py:49: UserWarning: Using a generator with `use_multiprocessing=True` and multiple workers may duplicate your data. Please consider using the `keras.utils.Sequence class.\n",
      "  UserWarning('Using a generator with `use_multiprocessing=True`'\n"
     ]
    },
    {
     "name": "stdout",
     "output_type": "stream",
     "text": [
      "380/380 [==============================] - 17s 45ms/step - loss: 0.5466 - accuracy: 0.7262 - val_loss: 0.7438 - val_accuracy: 0.7724\n",
      "Epoch 32/40\n",
      "380/380 [==============================] - 17s 45ms/step - loss: 0.3722 - accuracy: 0.8462 - val_loss: 0.6345 - val_accuracy: 0.7855\n",
      "Epoch 33/40\n",
      "380/380 [==============================] - 18s 48ms/step - loss: 0.2917 - accuracy: 0.8842 - val_loss: 0.8745 - val_accuracy: 0.7875\n",
      "Epoch 34/40\n",
      "380/380 [==============================] - 19s 50ms/step - loss: 0.2033 - accuracy: 0.9270 - val_loss: 0.5252 - val_accuracy: 0.8204\n",
      "Epoch 35/40\n",
      "380/380 [==============================] - 19s 49ms/step - loss: 0.1846 - accuracy: 0.9326 - val_loss: 0.7331 - val_accuracy: 0.7586\n",
      "Epoch 36/40\n",
      "380/380 [==============================] - 18s 48ms/step - loss: 0.1711 - accuracy: 0.9398 - val_loss: 1.2958 - val_accuracy: 0.7862\n",
      "Epoch 37/40\n",
      "380/380 [==============================] - 19s 49ms/step - loss: 0.1220 - accuracy: 0.9610 - val_loss: 1.7086 - val_accuracy: 0.7888\n"
     ]
    }
   ],
   "source": [
    "shutil.rmtree('checkpoints', ignore_errors=True)\n",
    "os.makedirs('checkpoints', exist_ok=True)\n",
    "\n",
    "BATCH_SIZE = 16\n",
    "\n",
    "train_gen = iter_batches(X_train, y_train_1_hot, BATCH_SIZE)\n",
    "test_gen = iter_batches(X_test, batch_size=BATCH_SIZE, sort_by_len=False)\n",
    "valid_gen = iter_batches(X_valid, y_valid_1_hot, BATCH_SIZE)\n",
    "\n",
    "\n",
    "\n",
    "checkpointer = ModelCheckpoint('checkpoints/weights.{epoch:02d}-{val_loss:.2f}.hdf5')\n",
    "stopper = EarlyStopping(patience=3)\n",
    "\n",
    "history = model.fit_generator(train_gen,\n",
    "                              steps_per_epoch=len(train_texts) // BATCH_SIZE,\n",
    "                              validation_data=valid_gen, \n",
    "                              validation_steps=len(valid_texts) // BATCH_SIZE,\n",
    "                              workers=3,\n",
    "                              use_multiprocessing=True,\n",
    "                              initial_epoch=30,\n",
    "                              epochs=40,\n",
    "                              callbacks=[checkpointer, stopper])\n"
   ]
  },
  {
   "cell_type": "code",
   "execution_count": 21,
   "metadata": {},
   "outputs": [
    {
     "data": {
      "text/plain": [
       "<matplotlib.axes._subplots.AxesSubplot at 0x7f56c0b02d90>"
      ]
     },
     "execution_count": 21,
     "metadata": {},
     "output_type": "execute_result"
    },
    {
     "data": {
      "image/png": "[encoded data removed]",
      "text/plain": [
       "<Figure size 432x288 with 1 Axes>"
      ]
     },
     "metadata": {
      "needs_background": "light"
     },
     "output_type": "display_data"
    },
    {
     "data": {
      "image/png": "[encoded data removed]",
      "text/plain": [
       "<Figure size 432x288 with 1 Axes>"
      ]
     },
     "metadata": {
      "needs_background": "light"
     },
     "output_type": "display_data"
    }
   ],
   "source": [
    "df = pd.DataFrame(history.history)\n",
    "df.describe()\n",
    "\n",
    "df[['loss', 'val_loss']].plot()\n",
    "df[['accuracy', 'val_accuracy']].plot()"
   ]
  },
  {
   "cell_type": "code",
   "execution_count": 37,
   "metadata": {},
   "outputs": [],
   "source": [
    "test_gen = iter_batches(X_test, batch_size=BATCH_SIZE, sort_by_len=False, shuffle=False)\n",
    "test_steps = len(X_test) // BATCH_SIZE\n",
    "\n",
    "y_test_pred_proba = model.predict_generator(test_gen, test_steps)\n",
    "y_test_pred = np.argmax(y_test_pred_proba, axis=1)"
   ]
  },
  {
   "cell_type": "code",
   "execution_count": 38,
   "metadata": {},
   "outputs": [
    {
     "name": "stdout",
     "output_type": "stream",
     "text": [
      "[[9.4033074e-01 5.9669282e-02]\n",
      " [2.9942336e-02 9.7005773e-01]\n",
      " [9.4446476e-04 9.9905556e-01]\n",
      " ...\n",
      " [1.8742648e-03 9.9812573e-01]\n",
      " [2.0141155e-02 9.7985888e-01]\n",
      " [2.0141155e-02 9.7985888e-01]]\n"
     ]
    }
   ],
   "source": [
    "print(y_test_pred_proba)"
   ]
  },
  {
   "cell_type": "code",
   "execution_count": 39,
   "metadata": {},
   "outputs": [
    {
     "name": "stdout",
     "output_type": "stream",
     "text": [
      "[0 1 1 ... 1 1 1]\n",
      "(3264,)\n",
      "(3264, 25)\n"
     ]
    }
   ],
   "source": [
    "print(y_test_pred)\n",
    "print(y_test_pred.shape)\n",
    "print(X_test.shape)"
   ]
  },
  {
   "cell_type": "code",
   "execution_count": 48,
   "metadata": {},
   "outputs": [
    {
     "name": "stdout",
     "output_type": "stream",
     "text": [
      "[[0]\n",
      " [1]\n",
      " [1]\n",
      " ...\n",
      " [1]\n",
      " [1]\n",
      " [1]]\n",
      "(3263, 1)\n"
     ]
    }
   ],
   "source": [
    "y_test_pred_col = y_test_pred.reshape(-1, 1)[0:3263]\n",
    "print(y_test_pred_col)\n",
    "print(y_test_pred_col.shape)"
   ]
  },
  {
   "cell_type": "code",
   "execution_count": 49,
   "metadata": {},
   "outputs": [
    {
     "name": "stdout",
     "output_type": "stream",
     "text": [
      "(3263, 2)\n"
     ]
    }
   ],
   "source": [
    "sample_submission = pd.read_csv(\"data/sample_submission.csv\")\n",
    "print(sample_submission.shape)\n",
    "sample_submission[\"target\"] = y_test_pred_col"
   ]
  },
  {
   "cell_type": "code",
   "execution_count": 50,
   "metadata": {},
   "outputs": [
    {
     "data": {
      "text/html": [
       "<div>\n",
       "<style scoped>\n",
       "    .dataframe tbody tr th:only-of-type {\n",
       "        vertical-align: middle;\n",
       "    }\n",
       "\n",
       "    .dataframe tbody tr th {\n",
       "        vertical-align: top;\n",
       "    }\n",
       "\n",
       "    .dataframe thead th {\n",
       "        text-align: right;\n",
       "    }\n",
       "</style>\n",
       "<table border=\"1\" class=\"dataframe\">\n",
       "  <thead>\n",
       "    <tr style=\"text-align: right;\">\n",
       "      <th></th>\n",
       "      <th>id</th>\n",
       "      <th>target</th>\n",
       "    </tr>\n",
       "  </thead>\n",
       "  <tbody>\n",
       "    <tr>\n",
       "      <th>0</th>\n",
       "      <td>0</td>\n",
       "      <td>0</td>\n",
       "    </tr>\n",
       "    <tr>\n",
       "      <th>1</th>\n",
       "      <td>2</td>\n",
       "      <td>1</td>\n",
       "    </tr>\n",
       "    <tr>\n",
       "      <th>2</th>\n",
       "      <td>3</td>\n",
       "      <td>1</td>\n",
       "    </tr>\n",
       "    <tr>\n",
       "      <th>3</th>\n",
       "      <td>9</td>\n",
       "      <td>0</td>\n",
       "    </tr>\n",
       "    <tr>\n",
       "      <th>4</th>\n",
       "      <td>11</td>\n",
       "      <td>1</td>\n",
       "    </tr>\n",
       "  </tbody>\n",
       "</table>\n",
       "</div>"
      ],
      "text/plain": [
       "   id  target\n",
       "0   0       0\n",
       "1   2       1\n",
       "2   3       1\n",
       "3   9       0\n",
       "4  11       1"
      ]
     },
     "execution_count": 50,
     "metadata": {},
     "output_type": "execute_result"
    }
   ],
   "source": [
    "sample_submission.head()"
   ]
  },
  {
   "cell_type": "code",
   "execution_count": 51,
   "metadata": {},
   "outputs": [],
   "source": [
    "sample_submission.to_csv(\"submissions/04_lstm_submission.csv\", index=False)"
   ]
  },
  {
   "cell_type": "markdown",
   "metadata": {},
   "source": [
    "Score: 0.76380"
   ]
  },
  {
   "cell_type": "markdown",
   "source": [
    "TODO:\n",
    "  - More advanced LSTM with Embeddings\n"
   ],
   "metadata": {
    "collapsed": false
   }
  }
 ],
 "metadata": {
  "kernelspec": {
   "display_name": "Python 3",
   "language": "python",
   "name": "python3"
  },
  "language_info": {
   "codemirror_mode": {
    "name": "ipython",
    "version": 3
   },
   "file_extension": ".py",
   "mimetype": "text/x-python",
   "name": "python",
   "nbconvert_exporter": "python",
   "pygments_lexer": "ipython3",
   "version": "3.7.5"
  },
  "pycharm": {
   "stem_cell": {
    "cell_type": "raw",
    "source": [],
    "metadata": {
     "collapsed": false
    }
   }
  }
 },
 "nbformat": 4,
 "nbformat_minor": 1
}